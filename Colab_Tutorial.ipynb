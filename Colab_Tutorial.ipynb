{
  "cells": [
    {
      "cell_type": "markdown",
      "metadata": {
        "id": "view-in-github",
        "colab_type": "text"
      },
      "source": [
        "<a href=\"https://colab.research.google.com/github/dabainiu617/agent-app/blob/main/Colab_Tutorial.ipynb\" target=\"_parent\"><img src=\"https://colab.research.google.com/assets/colab-badge.svg\" alt=\"Open In Colab\"/></a>"
      ]
    },
    {
      "cell_type": "markdown",
      "metadata": {
        "id": "QkELbiG6ogiG"
      },
      "source": [
        "# Colab Tutorial（請在雲端硬碟儲存副本）"
      ]
    },
    {
      "cell_type": "markdown",
      "source": [
        "### 先安裝必要套件\n",
        "\n"
      ],
      "metadata": {
        "id": "eZ4iFBhqnOIo"
      }
    },
    {
      "cell_type": "code",
      "source": [
        "!pip install transformers==4.47.0\n",
        "!pip install torch"
      ],
      "metadata": {
        "id": "DuoiUMEHnNDm"
      },
      "execution_count": null,
      "outputs": []
    },
    {
      "cell_type": "markdown",
      "metadata": {
        "id": "EvlATdaN45U8"
      },
      "source": [
        "## 檢查是否有使用到 GPU"
      ]
    },
    {
      "cell_type": "code",
      "execution_count": null,
      "metadata": {
        "colab": {
          "base_uri": "https://localhost:8080/"
        },
        "id": "To39dynktNC2",
        "outputId": "e4257d53-9711-4286-ac2b-410d27629209",
        "collapsed": true
      },
      "outputs": [
        {
          "output_type": "execute_result",
          "data": {
            "text/plain": [
              "True"
            ]
          },
          "metadata": {},
          "execution_count": 3
        }
      ],
      "source": [
        "import torch\n",
        "torch.cuda.is_available()\n"
      ]
    },
    {
      "cell_type": "markdown",
      "source": [
        "## shell 指令\n"
      ],
      "metadata": {
        "id": "WoH9YIQAcJV0"
      }
    },
    {
      "cell_type": "code",
      "source": [
        "!ls # list all directory and files"
      ],
      "metadata": {
        "id": "poBFRDCQm8vm"
      },
      "execution_count": null,
      "outputs": []
    },
    {
      "cell_type": "code",
      "source": [
        "!pwd # Output the working directory"
      ],
      "metadata": {
        "id": "6zbj5usqiikd"
      },
      "execution_count": null,
      "outputs": []
    },
    {
      "cell_type": "code",
      "source": [
        "!cd sample_data # change directory to sample_data"
      ],
      "metadata": {
        "id": "tal4m70uipsr"
      },
      "execution_count": null,
      "outputs": []
    },
    {
      "cell_type": "markdown",
      "source": [
        "\"!\"的指令在一個新的 shell 內執行，執行完畢後 shell 就結束了"
      ],
      "metadata": {
        "id": "KZj6F4jhdAIY"
      }
    },
    {
      "cell_type": "code",
      "source": [
        "!cd sample_data   # 這行指令在一個新的 shell 內執行，執行完畢後 shell 就結束了\n",
        "!pwd              # 這行指令在另一個新的 shell 內執行，因此仍然處於原來的目錄"
      ],
      "metadata": {
        "id": "IhC6cQaBc7xR"
      },
      "execution_count": null,
      "outputs": []
    },
    {
      "cell_type": "markdown",
      "source": [
        "如果同學想要讓指令效果持續在整個session，建議使用\"%\""
      ],
      "metadata": {
        "id": "l3F7XNFkdKfF"
      }
    },
    {
      "cell_type": "code",
      "source": [
        "%cd sample_data\n",
        "%pwd"
      ],
      "metadata": {
        "id": "UB47K1kLdGAv"
      },
      "execution_count": null,
      "outputs": []
    },
    {
      "cell_type": "markdown",
      "source": [
        "## 檢查GPU種類\n"
      ],
      "metadata": {
        "id": "TUUYJZGw3Dfn"
      }
    },
    {
      "cell_type": "code",
      "source": [
        "!nvidia-smi"
      ],
      "metadata": {
        "colab": {
          "base_uri": "https://localhost:8080/",
          "height": 159
        },
        "id": "uVm_HDi32fL8",
        "outputId": "631af4b4-bf81-4292-9298-b9c7cd962384"
      },
      "execution_count": null,
      "outputs": [
        {
          "output_type": "error",
          "ename": "AttributeError",
          "evalue": "module 'torch.cuda' has no attribute 'is_avaliable'",
          "traceback": [
            "\u001b[0;31m---------------------------------------------------------------------------\u001b[0m",
            "\u001b[0;31mAttributeError\u001b[0m                            Traceback (most recent call last)",
            "\u001b[0;32m<ipython-input-1-8589fe3f7363>\u001b[0m in \u001b[0;36m<cell line: 0>\u001b[0;34m()\u001b[0m\n\u001b[1;32m      1\u001b[0m \u001b[0;32mimport\u001b[0m \u001b[0mtorch\u001b[0m\u001b[0;34m\u001b[0m\u001b[0;34m\u001b[0m\u001b[0m\n\u001b[0;32m----> 2\u001b[0;31m \u001b[0mtorch\u001b[0m\u001b[0;34m.\u001b[0m\u001b[0mcuda\u001b[0m\u001b[0;34m.\u001b[0m\u001b[0mis_avaliable\u001b[0m\u001b[0;34m(\u001b[0m\u001b[0;34m)\u001b[0m\u001b[0;34m\u001b[0m\u001b[0;34m\u001b[0m\u001b[0m\n\u001b[0m",
            "\u001b[0;31mAttributeError\u001b[0m: module 'torch.cuda' has no attribute 'is_avaliable'"
          ]
        }
      ]
    },
    {
      "cell_type": "markdown",
      "source": [
        "### 下載Drive上的資料到Colab中\n",
        "請注意，你上傳到Colab的檔案並不是永久存在的，檔案會在session斷線後消失。因此同學若生成模型檔以後請務必盡快下載，以免session斷線而讓原本訓練好的模型檔不見。"
      ],
      "metadata": {
        "id": "M_VOwVrFiMDa"
      }
    },
    {
      "cell_type": "code",
      "source": [
        "!gdown https://drive.google.com/file/d/1L8vWaI3Pid2V9-OhpvvqxwUS7ijusfzG/view?usp=sharing --output image.png"
      ],
      "metadata": {
        "colab": {
          "base_uri": "https://localhost:8080/"
        },
        "id": "IvybUEU-FOzT",
        "outputId": "afddb72a-ff72-4b66-faa4-88b7fb29f87f"
      },
      "execution_count": null,
      "outputs": [
        {
          "output_type": "stream",
          "name": "stdout",
          "text": [
            "/usr/local/lib/python3.11/dist-packages/gdown/parse_url.py:48: UserWarning: You specified a Google Drive link that is not the correct link to download a file. You might want to try `--fuzzy` option or the following url: https://drive.google.com/uc?id=1L8vWaI3Pid2V9-OhpvvqxwUS7ijusfzG\n",
            "  warnings.warn(\n",
            "Downloading...\n",
            "From: https://drive.google.com/file/d/1L8vWaI3Pid2V9-OhpvvqxwUS7ijusfzG/view?usp=sharing\n",
            "To: /content/image.png\n",
            "93.5kB [00:00, 3.19MB/s]\n"
          ]
        }
      ]
    },
    {
      "cell_type": "markdown",
      "source": [
        "## Mounting Google Drive\n"
      ],
      "metadata": {
        "id": "fz2PxA5e3VvV"
      }
    },
    {
      "cell_type": "markdown",
      "source": [
        "Mounting Google Drive（掛載 Google 雲端硬碟）指的是將 Google Drive 連接到一個運行環境（如本地電腦、雲端虛擬機或 Google Colab），讓其像本地磁碟一樣使用。這樣就可以直接讀取、寫入、修改 Google Drive 上的文件和資料夾。\n",
        "\n",
        "執行後，會跳出授權連結，點擊後登入 Google 帳號，複製驗證碼並貼回 Colab。\n",
        "掛載成功後，Google Drive 會出現在 /content/drive 目錄下。\n"
      ],
      "metadata": {
        "id": "sLjRbuUQ-lKy"
      }
    },
    {
      "cell_type": "code",
      "source": [
        "from google.colab import drive\n",
        "drive.mount('/content/drive')\n"
      ],
      "metadata": {
        "colab": {
          "base_uri": "https://localhost:8080/"
        },
        "id": "PtQfCNl_90f8",
        "outputId": "8ea22ff3-927c-4118-9612-cc1c53835d66"
      },
      "execution_count": null,
      "outputs": [
        {
          "output_type": "stream",
          "name": "stdout",
          "text": [
            "Mounted at /content/drive\n"
          ]
        }
      ]
    },
    {
      "cell_type": "markdown",
      "source": [
        "創建ML2025資料夾，並進入"
      ],
      "metadata": {
        "id": "AO09Nrci_Xz7"
      }
    },
    {
      "cell_type": "code",
      "source": [
        "%cd /content/drive/MyDrive\n",
        "!mkdir ML2025 # make a directory named ML2025\n",
        "%cd ./ML2025"
      ],
      "metadata": {
        "id": "viBhrLVA3e1o",
        "colab": {
          "base_uri": "https://localhost:8080/"
        },
        "outputId": "1eebc237-bb7b-4721-ce43-e00fe281901e"
      },
      "execution_count": null,
      "outputs": [
        {
          "output_type": "stream",
          "name": "stdout",
          "text": [
            "/content/drive/MyDrive\n"
          ]
        }
      ]
    },
    {
      "cell_type": "markdown",
      "source": [],
      "metadata": {
        "id": "O5b11nn0geDY"
      }
    },
    {
      "cell_type": "code",
      "source": [
        "!pwd #output the current directory\n"
      ],
      "metadata": {
        "id": "gMXTtAGmECA8",
        "colab": {
          "base_uri": "https://localhost:8080/"
        },
        "outputId": "01e97726-74ed-40c4-8281-142af20830b8"
      },
      "execution_count": null,
      "outputs": [
        {
          "output_type": "stream",
          "name": "stdout",
          "text": [
            "/content/drive/MyDrive\n",
            "/content/drive/MyDrive\n"
          ]
        }
      ]
    }
  ],
  "metadata": {
    "accelerator": "GPU",
    "colab": {
      "gpuType": "T4",
      "provenance": [],
      "include_colab_link": true
    },
    "kaggle": {
      "accelerator": "gpu",
      "dataSources": [],
      "dockerImageVersionId": 30840,
      "isGpuEnabled": true,
      "isInternetEnabled": true,
      "language": "python",
      "sourceType": "notebook"
    },
    "kernelspec": {
      "display_name": "Python 3",
      "name": "python3"
    },
    "language_info": {
      "codemirror_mode": {
        "name": "ipython",
        "version": 3
      },
      "file_extension": ".py",
      "mimetype": "text/x-python",
      "name": "python",
      "nbconvert_exporter": "python",
      "pygments_lexer": "ipython3",
      "version": "3.10.12"
    }
  },
  "nbformat": 4,
  "nbformat_minor": 0
}